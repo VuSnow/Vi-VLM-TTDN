{
 "cells": [
  {
   "cell_type": "code",
   "execution_count": null,
   "metadata": {
    "vscode": {
     "languageId": "plaintext"
    }
   },
   "outputs": [],
   "source": [
    "import os\n",
    "import json\n",
    "from nltk.tokenize import sent_tokenize\n",
    "from pyvi.ViTokenizer import tokenize\n",
    "from tqdm import tqdm"
   ]
  },
  {
   "cell_type": "code",
   "execution_count": null,
   "metadata": {
    "vscode": {
     "languageId": "plaintext"
    }
   },
   "outputs": [],
   "source": [
    "def load_all_json_file(dir_path):\n",
    "    all_sentences = []\n",
    "    for root, dirs, files in os.walk(dir_path):\n",
    "        for idx, filename in enumerate(tqdm(files)):\n",
    "            file_path = os.path.join(root, filename)\n",
    "            with open(file_path, \"r\", encoding=\"utf-8\") as f:\n",
    "                for line in f:\n",
    "                    try:\n",
    "                        article = json.loads(line)\n",
    "                        text = article.get(\"text\", \"\")\n",
    "                        if not text.strip():\n",
    "                            continue\n",
    "                        \n",
    "                        # Tách đoạn văn thành câu và tokenize từng câu\n",
    "                        sentences = text.split(\".\")\n",
    "                        tokenized_sentences = [tokenize(sentence) for sentence in sentences]\n",
    "                        joined_text = \".\".join(tokenized_sentences)\n",
    "                        all_sentences.append(joined_text)\n",
    "                    except json.JSONDecodeError:\n",
    "                        continue\n",
    "                    \n",
    "    return all_sentences"
   ]
  }
 ],
 "metadata": {
  "language_info": {
   "name": "python"
  }
 },
 "nbformat": 4,
 "nbformat_minor": 2
}
